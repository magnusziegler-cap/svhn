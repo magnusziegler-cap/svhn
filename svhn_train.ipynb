{
 "cells": [
  {
   "cell_type": "markdown",
   "metadata": {},
   "source": [
    "# Street View House Numbers\n",
    "### Outline:\n",
    "Multi-class classfication problem where images are crops(32x32x3) from google street view style imaging. The goal of the classification is to determine which number is in the image (0-9)(except label y==10 is in reality the number 0). Images are RGB, often blurred or with significant skew.\n",
    "In this notebook I train set of basic models to attempt to solve this task.\n",
    "MZ2022"
   ]
  },
  {
   "cell_type": "markdown",
   "metadata": {},
   "source": [
    "1 - Imports\n",
    "+ static random_seed\n",
    "+ set pytorch 'device'"
   ]
  },
  {
   "cell_type": "code",
   "execution_count": 1,
   "metadata": {},
   "outputs": [
    {
     "name": "stdout",
     "output_type": "stream",
     "text": [
      "Compute device in use: cpu\n"
     ]
    },
    {
     "data": {
      "text/plain": [
       "<torch._C.Generator at 0x164cb95a070>"
      ]
     },
     "execution_count": 1,
     "metadata": {},
     "output_type": "execute_result"
    }
   ],
   "source": [
    "import torch\n",
    "import torchvision\n",
    "import torchvision.transforms as transforms\n",
    "import torch.nn as nn\n",
    "import torch.nn.functional as F\n",
    "import torch.optim\n",
    "from torchmetrics import F1Score, ConfusionMatrix, MatthewsCorrCoef\n",
    "import numpy as np\n",
    "import scipy.io\n",
    "import os\n",
    "import matplotlib.pyplot as plt\n",
    "from sklearn.model_selection import train_test_split\n",
    "from PIL import Image\n",
    "from tqdm import tqdm\n",
    "import datetime\n",
    "import time\n",
    "\n",
    "device = \"cpu\"\n",
    "if (torch.cuda.is_available()):\n",
    "    device = \"cuda\"\n",
    "print('Compute device in use:', device)\n",
    "\n",
    "torch.manual_seed(19)"
   ]
  },
  {
   "cell_type": "markdown",
   "metadata": {},
   "source": [
    "2 - Data\n",
    "+ load data\n",
    "+ svhn_dataset class\n",
    "+ define Transforms used in data_augmentation\n",
    "+ visual augmentation sanity check\n",
    "+ train/validation split\n",
    "+ create dataloaders"
   ]
  },
  {
   "cell_type": "code",
   "execution_count": 2,
   "metadata": {},
   "outputs": [
    {
     "name": "stdout",
     "output_type": "stream",
     "text": [
      "The training_data package contains 73257 examples.\n",
      "The original shape of the dataset is: X:(32, 32, 3, 73257) and y: (73257, 1)\n",
      "Labels: [0 1 2 3 4 5 6 7 8 9]\n",
      "The shape of the dataset is: X:(73257, 32, 32, 3) and y: (73257, 1)\n"
     ]
    }
   ],
   "source": [
    "path_to_data = 'data/train_32x32.mat'\n",
    "original_data = scipy.io.loadmat(file_name=path_to_data)\n",
    "\n",
    "#Strip the matlab-generated metadata\n",
    "dataset_X = original_data['X']\n",
    "dataset_y = original_data['y']\n",
    "\n",
    "#replace label y==10 --> 0 convention\n",
    "dataset_y[dataset_y==10] = 0\n",
    "\n",
    "num_examples = dataset_y.size\n",
    "print(f'The training_data package contains {num_examples} examples.')\n",
    "print(f'The original shape of the dataset is: X:{dataset_X.shape} and y: {dataset_y.shape}')\n",
    "print(f'Labels: {np.unique(dataset_y)}')\n",
    "\n",
    "# reshape X into NCHW from HWCN. pytorch like NCHW for transforms\n",
    "dataset_X = np.transpose(dataset_X, axes=(3,0,1,2)) # NHWC\n",
    "#dataset_X = np.transpose(dataset_X, axes=(3,2,0,1)) #NCHW\n",
    "\n",
    "print(f'The shape of the dataset is: X:{dataset_X.shape} and y: {dataset_y.shape}')"
   ]
  },
  {
   "cell_type": "code",
   "execution_count": 3,
   "metadata": {},
   "outputs": [],
   "source": [
    "## make a callable dataset using pytorch tools that interfaces with Dataloader and Transforms\n",
    "class svhn_dataset():\n",
    "    \"\"\" pytorch-friendly dataset class for svhn\n",
    "    \"\"\"\n",
    "    def __init__(self, X, y, transforms = None):\n",
    "        self.X = X\n",
    "        self.y = y.squeeze() \n",
    "        self.transforms = transforms\n",
    "\n",
    "    def __len__(self):\n",
    "        return len(self.y)\n",
    "\n",
    "    def __getitem__(self, index):\n",
    "        #convert to PIL image for transforms\n",
    "        image = Image.fromarray(self.X[index,...])\n",
    "        label = self.y[index]\n",
    "\n",
    "        if self.transforms is not None:\n",
    "            image = self.transforms(image)\n",
    "        \n",
    "        return image, int(label)\n"
   ]
  },
  {
   "cell_type": "code",
   "execution_count": 4,
   "metadata": {},
   "outputs": [],
   "source": [
    "# Define augmentation transforms that would be relevant and useful\n",
    "# no flips L/R or U/D because that isn't realistic for this problem\n",
    "aug_prob = 0.5\n",
    "image_transforms = transforms.Compose([\n",
    "    transforms.RandomApply([\n",
    "        transforms.RandomAffine(degrees=25, translate=(0, 0.2)), #25deg max rotate, max translation +/- 20%\n",
    "        transforms.ColorJitter(brightness=0.25, contrast=0.25), #25% brightness, contrast changes.\n",
    "        transforms.RandomAdjustSharpness(sharpness_factor=2, p=aug_prob)\n",
    "    ],\n",
    "    p=aug_prob),\n",
    "    transforms.ToTensor(), #get to pytorch tensor from PIL image\n",
    "]) "
   ]
  },
  {
   "cell_type": "code",
   "execution_count": 14,
   "metadata": {},
   "outputs": [
    {
     "name": "stdout",
     "output_type": "stream",
     "text": [
      "The training dataset has the following shape: (51279, 32, 32, 3)\n",
      "The validation dataset has the following shape: (21978, 32, 32, 3)\n"
     ]
    }
   ],
   "source": [
    "# Create training and validation datasets\n",
    "# stratified split 70/30\n",
    "train_validation_split = 0.7\n",
    "X_train, X_validation, y_train, y_validation = train_test_split(dataset_X,\n",
    "                                                                dataset_y,\n",
    "                                                                train_size=train_validation_split,\n",
    "                                                                stratify=dataset_y)\n",
    "\n",
    "print(f'The training dataset has the following shape: {X_train.shape}')\n",
    "print(f'The validation dataset has the following shape: {X_validation.shape}')\n",
    "\n",
    "training_dataset = svhn_dataset(X=X_train, y=y_train, transforms=image_transforms)\n",
    "validation_dataset = svhn_dataset(X=X_validation, y=y_validation, transforms=image_transforms)\n"
   ]
  },
  {
   "cell_type": "code",
   "execution_count": 15,
   "metadata": {},
   "outputs": [
    {
     "data": {
      "image/png": "[encoded data removed]",
      "text/plain": [
       "<Figure size 432x288 with 5 Axes>"
      ]
     },
     "metadata": {
      "needs_background": "light"
     },
     "output_type": "display_data"
    }
   ],
   "source": [
    "# perform a visual sanity check on the transformations, to ensure they are being applied. \n",
    "fig = plt.figure()\n",
    "for r in range(0,5):\n",
    "    image, label = training_dataset.__getitem__(index=np.random.randint(low=0,high=training_dataset.__len__()))\n",
    "    plt.subplot(1,5,r+1)\n",
    "    plt.imshow(image.permute(1,2,0)) #get back from pytorch ordering to something plt likes\n",
    "    plt.title(f'Label:{label}')"
   ]
  },
  {
   "cell_type": "code",
   "execution_count": 7,
   "metadata": {},
   "outputs": [],
   "source": [
    "def create_DataLoaders(training_dataset, validation_dataset, batch_size, shuffle):\n",
    "    \"\"\"Create DataLoader objects for training and validation datasets \n",
    "\n",
    "    Args:\n",
    "        training_dataset (iterable dataset): iterable dataset for training data\n",
    "        validation_dataset (iterable dataset): iterable dataset for validation data\n",
    "        batch_size (_type_): number of examples in a batch\n",
    "        shuffle (_type_): random order in batch or not\n",
    "\n",
    "    Returns:\n",
    "        training_loader: dataloader for Training set\n",
    "        validation_loader: dataloader for validation set\n",
    "    \"\"\"\n",
    "\n",
    "    # add multiprocessing?\n",
    "    training_loader = torch.utils.data.DataLoader(dataset=training_dataset,\n",
    "        batch_size=batch_size,\n",
    "        shuffle=shuffle\n",
    "    )\n",
    "\n",
    "    validation_loader = torch.utils.data.DataLoader(dataset=validation_dataset,\n",
    "    batch_size=batch_size,\n",
    "    shuffle=shuffle\n",
    "    )\n",
    "\n",
    "    return training_loader, validation_loader\n"
   ]
  },
  {
   "cell_type": "markdown",
   "metadata": {},
   "source": [
    "#3 - Model, Model Parameters, Loss, Optimizer\n",
    "+ CNN\n",
    "+ define training and validation loop functions"
   ]
  },
  {
   "cell_type": "code",
   "execution_count": 8,
   "metadata": {},
   "outputs": [],
   "source": [
    "# deep CNN. Lets do (input)-(3x(conv,pool,drop)layers)-(dense_out)\n",
    "class cnn(nn.Module):\n",
    "    \"\"\"\n",
    "        Define cnn model for SVHN\n",
    "    \"\"\"\n",
    "    def __init__(self, input_size, num_layers, n_feat_l1=16, num_classes=10, RGB=True, dropout_probability=0.2, kernel_size=3, stride=1, pad=1):\n",
    "        \n",
    "        super(cnn, self).__init__()\n",
    "        # variables\n",
    "        self.input_size = input_size\n",
    "        self.num_layers = num_layers\n",
    "        self.n_feat_l1 = n_feat_l1\n",
    "        self.num_classes = num_classes\n",
    "        self.dropout_probability = dropout_probability\n",
    "        self.kernel_size = kernel_size\n",
    "        self.stride = stride\n",
    "        self.pad = pad\n",
    "        if RGB:\n",
    "            input_channels=3\n",
    "        else:\n",
    "            input_channels=1\n",
    "\n",
    "        #define model layers\n",
    "        self.in_features = np.arange(self.n_feat_l1,self.n_feat_l1*(2+self.num_layers), self.n_feat_l1)\n",
    "\n",
    "        self.input_layer = nn.Conv2d(in_channels=input_channels,\n",
    "            out_channels=n_feat_l1,\n",
    "            kernel_size=self.kernel_size,\n",
    "            stride=self.stride,\n",
    "            padding=self.pad)\n",
    "        \n",
    "        self.pool2 = nn.MaxPool2d(kernel_size=2)\n",
    "\n",
    "        self.drop = nn.Dropout2d(p=self.dropout_probability)\n",
    "\n",
    "        self.fc = nn.Linear(int(self.in_features[-1]*(self.input_size[0]/2**self.num_layers)), out_features=num_classes)\n",
    "\n",
    "        self.sequence = nn.Sequential()\n",
    "        for l in range(self.num_layers):\n",
    "            new = nn.Sequential(\n",
    "                nn.Conv2d(in_channels=self.in_features[l],\n",
    "                    out_channels=self.in_features[l+1],\n",
    "                    kernel_size=self.kernel_size,\n",
    "                    stride=self.stride,\n",
    "                    padding=self.pad),\n",
    "                nn.MaxPool2d(kernel_size=2), \n",
    "                nn.Dropout2d(p=dropout_probability),\n",
    "                nn.ReLU()\n",
    "            )\n",
    "            self.sequence.append(new)\n",
    "        \n",
    "    def forward(self,x):\n",
    "\n",
    "        x = F.relu(self.pool2(self.input_layer(x)))\n",
    "        x = self.sequence(x)\n",
    "        x = x.view(-1, int(self.in_features[-1]*(self.input_size[0]/2**self.num_layers))) #flatten before fc\n",
    "        x = self.fc(x)\n",
    "        x = F.log_softmax(x,dim=1)\n",
    "\n",
    "        return x\n"
   ]
  },
  {
   "cell_type": "code",
   "execution_count": 9,
   "metadata": {},
   "outputs": [],
   "source": [
    "def train(model, device, training_loader, optimizer, loss_metric):\n",
    "    \"\"\"Training Loop\n",
    "\n",
    "    Args:\n",
    "        model (_type_): pytorch model\n",
    "        device (_type_): target device\n",
    "        training_loader (_type_): data loader\n",
    "        optimizer (_type_): Optimizer object\n",
    "        loss_metric (_type_): loss metric object\n",
    "\n",
    "    Returns:\n",
    "        training_loss(tensor): training_loss\n",
    "    \"\"\"\n",
    "    model.train()\n",
    "    training_loss = 0\n",
    "\n",
    "    for batch_index, (batch_images, batch_labels) in enumerate(training_loader):\n",
    "        optimizer.zero_grad()\n",
    "        \n",
    "        batch_images = batch_images.to(device=device)\n",
    "        batch_labels = batch_labels.to(device=device)\n",
    "\n",
    "        output = model(batch_images)\n",
    "\n",
    "        loss = loss_metric(output, batch_labels)\n",
    "\n",
    "        training_loss += loss.item()\n",
    "\n",
    "        #backprop\n",
    "        loss.backward()\n",
    "        optimizer.step()\n",
    "\n",
    "    training_loss = training_loss/(batch_index+1)\n",
    "\n",
    "    return training_loss"
   ]
  },
  {
   "cell_type": "code",
   "execution_count": 10,
   "metadata": {},
   "outputs": [],
   "source": [
    "def validate(model, device, validation_loader, loss_metric):\n",
    "    \"\"\"Validate Loop\n",
    "\n",
    "    Args:\n",
    "        model (_type_): pytorch model\n",
    "        device (_type_): target device\n",
    "        validation_loader (_type_): data loader\n",
    "        loss_metric (_type_): loss metric object\n",
    "\n",
    "    Returns:\n",
    "        validation_loss(tensor): float  \n",
    "        metrics(dict): dict of performance metrics\n",
    "    \"\"\"\n",
    "    mcc_score = MatthewsCorrCoef(num_classes=model.num_classes)\n",
    "    confmatrix = ConfusionMatrix(num_classes=model.num_classes, normalize='true')\n",
    "    model.eval()\n",
    "    validation_loss = 0\n",
    "    accuracy = 0\n",
    "    mcc = 0\n",
    "    cm = 0\n",
    "    metrics={}\n",
    "\n",
    "    with torch.no_grad():\n",
    "        for batch_index, (batch_images, batch_labels) in enumerate(validation_loader):\n",
    "\n",
    "            batch_images = batch_images.to(device=device)\n",
    "            batch_labels = batch_labels.to(device=device)\n",
    "            \n",
    "            output = model(batch_images)\n",
    "\n",
    "            validation_loss += loss_metric(output, batch_labels).item()\n",
    "\n",
    "            # get predicted labels \n",
    "            _, predicted_labels = torch.max(output.data, 1)\n",
    "\n",
    "            batch_accuracy = torch.sum(predicted_labels == batch_labels)/len(predicted_labels)\n",
    "            mcc += mcc_score(predicted_labels, batch_labels)\n",
    "            cm += confmatrix(predicted_labels, batch_labels)\n",
    "            accuracy += batch_accuracy\n",
    "\n",
    "    metrics[\"mcc\"] = (mcc/(batch_index+1))\n",
    "    metrics[\"accuracy\"] = accuracy/(batch_index+1)\n",
    "    metrics[\"cm\"] = cm/(batch_index+1)\n",
    "\n",
    "    validation_loss = validation_loss/(batch_index+1)\n",
    "\n",
    "    return validation_loss, metrics"
   ]
  },
  {
   "cell_type": "markdown",
   "metadata": {},
   "source": [
    "#4 - Training + Validation Loops\n",
    "+ initialize dataloaders\n",
    "+ initalize model\n",
    "+ intialize optimizer, loss, metric tracking arrays, datestamp for model io\n",
    "\n",
    "--> upgrade by paramaterizing this to set up for automated hyperparam tuning/sweeps"
   ]
  },
  {
   "cell_type": "code",
   "execution_count": 11,
   "metadata": {},
   "outputs": [
    {
     "name": "stdout",
     "output_type": "stream",
     "text": [
      "cnn(\n",
      "  (input_layer): Conv2d(3, 32, kernel_size=(3, 3), stride=(1, 1), padding=(1, 1))\n",
      "  (pool2): MaxPool2d(kernel_size=2, stride=2, padding=0, dilation=1, ceil_mode=False)\n",
      "  (drop): Dropout2d(p=0.2, inplace=False)\n",
      "  (fc): Linear(in_features=512, out_features=10, bias=True)\n",
      "  (sequence): Sequential(\n",
      "    (0): Sequential(\n",
      "      (0): Conv2d(32, 64, kernel_size=(3, 3), stride=(1, 1), padding=(1, 1))\n",
      "      (1): MaxPool2d(kernel_size=2, stride=2, padding=0, dilation=1, ceil_mode=False)\n",
      "      (2): Dropout2d(p=0.2, inplace=False)\n",
      "      (3): ReLU()\n",
      "    )\n",
      "    (1): Sequential(\n",
      "      (0): Conv2d(64, 96, kernel_size=(3, 3), stride=(1, 1), padding=(1, 1))\n",
      "      (1): MaxPool2d(kernel_size=2, stride=2, padding=0, dilation=1, ceil_mode=False)\n",
      "      (2): Dropout2d(p=0.2, inplace=False)\n",
      "      (3): ReLU()\n",
      "    )\n",
      "    (2): Sequential(\n",
      "      (0): Conv2d(96, 128, kernel_size=(3, 3), stride=(1, 1), padding=(1, 1))\n",
      "      (1): MaxPool2d(kernel_size=2, stride=2, padding=0, dilation=1, ceil_mode=False)\n",
      "      (2): Dropout2d(p=0.2, inplace=False)\n",
      "      (3): ReLU()\n",
      "    )\n",
      "  )\n",
      ")\n",
      "Training for 30 epochs.\n"
     ]
    },
    {
     "name": "stderr",
     "output_type": "stream",
     "text": [
      "  0%|          | 0/30 [00:00<?, ?it/s]"
     ]
    },
    {
     "name": "stdout",
     "output_type": "stream",
     "text": [
      "Epoch: : 0\n"
     ]
    },
    {
     "name": "stderr",
     "output_type": "stream",
     "text": [
      "  3%|▎         | 1/30 [01:52<54:16, 112.29s/it]"
     ]
    },
    {
     "name": "stdout",
     "output_type": "stream",
     "text": [
      "Training Loss: 2.02536\n",
      "Validation Loss: 1.31249\n",
      "Validation Accuracy: 0.57839\n",
      "Validation MCC: 0.52295\n",
      "Saved new best model: models/svhn_model_2022_09_19_1302_e0.pt\n",
      "Epoch: : 1\n"
     ]
    },
    {
     "name": "stderr",
     "output_type": "stream",
     "text": [
      "  7%|▋         | 2/30 [03:53<54:56, 117.73s/it]"
     ]
    },
    {
     "name": "stdout",
     "output_type": "stream",
     "text": [
      "Training Loss: 1.03157\n",
      "Validation Loss: 0.73747\n",
      "Validation Accuracy: 0.77355\n",
      "Validation MCC: 0.74490\n",
      "Saved new best model: models/svhn_model_2022_09_19_1302_e1.pt\n",
      "Epoch: : 2\n"
     ]
    },
    {
     "name": "stderr",
     "output_type": "stream",
     "text": [
      " 10%|█         | 3/30 [05:54<53:37, 119.15s/it]"
     ]
    },
    {
     "name": "stdout",
     "output_type": "stream",
     "text": [
      "Training Loss: 0.74362\n",
      "Validation Loss: 0.56906\n",
      "Validation Accuracy: 0.82335\n",
      "Validation MCC: 0.80053\n",
      "Saved new best model: models/svhn_model_2022_09_19_1302_e2.pt\n",
      "Epoch: : 3\n"
     ]
    },
    {
     "name": "stderr",
     "output_type": "stream",
     "text": [
      " 13%|█▎        | 4/30 [07:49<50:55, 117.51s/it]"
     ]
    },
    {
     "name": "stdout",
     "output_type": "stream",
     "text": [
      "Training Loss: 0.63804\n",
      "Validation Loss: 0.50972\n",
      "Validation Accuracy: 0.84244\n",
      "Validation MCC: 0.82197\n",
      "Saved new best model: models/svhn_model_2022_09_19_1302_e3.pt\n",
      "Epoch: : 4\n"
     ]
    },
    {
     "name": "stderr",
     "output_type": "stream",
     "text": [
      " 17%|█▋        | 5/30 [09:40<47:58, 115.15s/it]"
     ]
    },
    {
     "name": "stdout",
     "output_type": "stream",
     "text": [
      "Training Loss: 0.58270\n",
      "Validation Loss: 0.47315\n",
      "Validation Accuracy: 0.85746\n",
      "Validation MCC: 0.83895\n",
      "Saved new best model: models/svhn_model_2022_09_19_1302_e4.pt\n",
      "Epoch: : 5\n"
     ]
    },
    {
     "name": "stderr",
     "output_type": "stream",
     "text": [
      " 20%|██        | 6/30 [11:22<44:15, 110.64s/it]"
     ]
    },
    {
     "name": "stdout",
     "output_type": "stream",
     "text": [
      "Training Loss: 0.54246\n",
      "Validation Loss: 0.45618\n",
      "Validation Accuracy: 0.86149\n",
      "Validation MCC: 0.84350\n",
      "Saved new best model: models/svhn_model_2022_09_19_1302_e5.pt\n",
      "Epoch: : 6\n"
     ]
    },
    {
     "name": "stderr",
     "output_type": "stream",
     "text": [
      " 23%|██▎       | 7/30 [13:26<44:06, 115.08s/it]"
     ]
    },
    {
     "name": "stdout",
     "output_type": "stream",
     "text": [
      "Training Loss: 0.51869\n",
      "Validation Loss: 0.43717\n",
      "Validation Accuracy: 0.86461\n",
      "Validation MCC: 0.84715\n",
      "Saved new best model: models/svhn_model_2022_09_19_1302_e6.pt\n",
      "Epoch: : 7\n"
     ]
    },
    {
     "name": "stderr",
     "output_type": "stream",
     "text": [
      " 27%|██▋       | 8/30 [15:27<42:48, 116.77s/it]"
     ]
    },
    {
     "name": "stdout",
     "output_type": "stream",
     "text": [
      "Training Loss: 0.49528\n",
      "Validation Loss: 0.41697\n",
      "Validation Accuracy: 0.87705\n",
      "Validation MCC: 0.86120\n",
      "Saved new best model: models/svhn_model_2022_09_19_1302_e7.pt\n",
      "Epoch: : 8\n"
     ]
    },
    {
     "name": "stderr",
     "output_type": "stream",
     "text": [
      " 30%|███       | 9/30 [17:25<41:05, 117.39s/it]"
     ]
    },
    {
     "name": "stdout",
     "output_type": "stream",
     "text": [
      "Training Loss: 0.47857\n",
      "Validation Loss: 0.39461\n",
      "Validation Accuracy: 0.88102\n",
      "Validation MCC: 0.86560\n",
      "Saved new best model: models/svhn_model_2022_09_19_1302_e8.pt\n",
      "Epoch: : 9\n"
     ]
    },
    {
     "name": "stderr",
     "output_type": "stream",
     "text": [
      " 33%|███▎      | 10/30 [19:29<39:43, 119.18s/it]"
     ]
    },
    {
     "name": "stdout",
     "output_type": "stream",
     "text": [
      "Training Loss: 0.46734\n",
      "Validation Loss: 0.39321\n",
      "Validation Accuracy: 0.88067\n",
      "Validation MCC: 0.86529\n",
      "Epoch: : 10\n"
     ]
    },
    {
     "name": "stderr",
     "output_type": "stream",
     "text": [
      " 37%|███▋      | 11/30 [21:38<38:42, 122.22s/it]"
     ]
    },
    {
     "name": "stdout",
     "output_type": "stream",
     "text": [
      "Training Loss: 0.45335\n",
      "Validation Loss: 0.37855\n",
      "Validation Accuracy: 0.88361\n",
      "Validation MCC: 0.86863\n",
      "Saved new best model: models/svhn_model_2022_09_19_1302_e10.pt\n",
      "Epoch: : 11\n"
     ]
    },
    {
     "name": "stderr",
     "output_type": "stream",
     "text": [
      " 40%|████      | 12/30 [24:01<38:34, 128.60s/it]"
     ]
    },
    {
     "name": "stdout",
     "output_type": "stream",
     "text": [
      "Training Loss: 0.43638\n",
      "Validation Loss: 0.37743\n",
      "Validation Accuracy: 0.88836\n",
      "Validation MCC: 0.87391\n",
      "Saved new best model: models/svhn_model_2022_09_19_1302_e11.pt\n",
      "Epoch: : 12\n"
     ]
    },
    {
     "name": "stderr",
     "output_type": "stream",
     "text": [
      " 43%|████▎     | 13/30 [26:02<35:48, 126.39s/it]"
     ]
    },
    {
     "name": "stdout",
     "output_type": "stream",
     "text": [
      "Training Loss: 0.43871\n",
      "Validation Loss: 0.37684\n",
      "Validation Accuracy: 0.88517\n",
      "Validation MCC: 0.87045\n",
      "Epoch: : 13\n"
     ]
    },
    {
     "name": "stderr",
     "output_type": "stream",
     "text": [
      " 47%|████▋     | 14/30 [28:06<33:28, 125.55s/it]"
     ]
    },
    {
     "name": "stdout",
     "output_type": "stream",
     "text": [
      "Training Loss: 0.43282\n",
      "Validation Loss: 0.37914\n",
      "Validation Accuracy: 0.88598\n",
      "Validation MCC: 0.87130\n",
      "Epoch: : 14\n"
     ]
    },
    {
     "name": "stderr",
     "output_type": "stream",
     "text": [
      " 50%|█████     | 15/30 [30:44<33:53, 135.54s/it]"
     ]
    },
    {
     "name": "stdout",
     "output_type": "stream",
     "text": [
      "Training Loss: 0.42207\n",
      "Validation Loss: 0.35643\n",
      "Validation Accuracy: 0.89232\n",
      "Validation MCC: 0.87849\n",
      "Saved new best model: models/svhn_model_2022_09_19_1302_e14.pt\n",
      "Epoch: : 15\n"
     ]
    },
    {
     "name": "stderr",
     "output_type": "stream",
     "text": [
      " 53%|█████▎    | 16/30 [32:49<30:51, 132.23s/it]"
     ]
    },
    {
     "name": "stdout",
     "output_type": "stream",
     "text": [
      "Training Loss: 0.41421\n",
      "Validation Loss: 0.35098\n",
      "Validation Accuracy: 0.89641\n",
      "Validation MCC: 0.88302\n",
      "Saved new best model: models/svhn_model_2022_09_19_1302_e15.pt\n",
      "Epoch: : 16\n"
     ]
    },
    {
     "name": "stderr",
     "output_type": "stream",
     "text": [
      "c:\\Users\\maziegle\\AppData\\Local\\Programs\\Python\\Python39\\lib\\site-packages\\torchmetrics\\utilities\\prints.py:36: UserWarning: 10 nan values found in confusion matrix have been replaced with zeros.\n",
      "  warnings.warn(*args, **kwargs)\n",
      " 57%|█████▋    | 17/30 [35:03<28:45, 132.75s/it]"
     ]
    },
    {
     "name": "stdout",
     "output_type": "stream",
     "text": [
      "Training Loss: 0.40667\n",
      "Validation Loss: 0.34555\n",
      "Validation Accuracy: 0.89705\n",
      "Validation MCC: 0.88360\n",
      "Saved new best model: models/svhn_model_2022_09_19_1302_e16.pt\n",
      "Epoch: : 17\n"
     ]
    },
    {
     "name": "stderr",
     "output_type": "stream",
     "text": [
      " 60%|██████    | 18/30 [37:11<26:15, 131.30s/it]"
     ]
    },
    {
     "name": "stdout",
     "output_type": "stream",
     "text": [
      "Training Loss: 0.40135\n",
      "Validation Loss: 0.34535\n",
      "Validation Accuracy: 0.89737\n",
      "Validation MCC: 0.88416\n",
      "Saved new best model: models/svhn_model_2022_09_19_1302_e17.pt\n",
      "Epoch: : 18\n"
     ]
    },
    {
     "name": "stderr",
     "output_type": "stream",
     "text": [
      " 63%|██████▎   | 19/30 [39:29<24:25, 133.23s/it]"
     ]
    },
    {
     "name": "stdout",
     "output_type": "stream",
     "text": [
      "Training Loss: 0.40087\n",
      "Validation Loss: 0.33951\n",
      "Validation Accuracy: 0.89981\n",
      "Validation MCC: 0.88683\n",
      "Saved new best model: models/svhn_model_2022_09_19_1302_e18.pt\n",
      "Epoch: : 19\n"
     ]
    },
    {
     "name": "stderr",
     "output_type": "stream",
     "text": [
      " 67%|██████▋   | 20/30 [41:48<22:30, 135.07s/it]"
     ]
    },
    {
     "name": "stdout",
     "output_type": "stream",
     "text": [
      "Training Loss: 0.39104\n",
      "Validation Loss: 0.33665\n",
      "Validation Accuracy: 0.90101\n",
      "Validation MCC: 0.88820\n",
      "Saved new best model: models/svhn_model_2022_09_19_1302_e19.pt\n",
      "Epoch: : 20\n"
     ]
    },
    {
     "name": "stderr",
     "output_type": "stream",
     "text": [
      " 70%|███████   | 21/30 [43:49<19:37, 130.82s/it]"
     ]
    },
    {
     "name": "stdout",
     "output_type": "stream",
     "text": [
      "Training Loss: 0.39250\n",
      "Validation Loss: 0.33222\n",
      "Validation Accuracy: 0.90228\n",
      "Validation MCC: 0.88959\n",
      "Saved new best model: models/svhn_model_2022_09_19_1302_e20.pt\n",
      "Epoch: : 21\n"
     ]
    },
    {
     "name": "stderr",
     "output_type": "stream",
     "text": [
      " 73%|███████▎  | 22/30 [45:46<16:53, 126.74s/it]"
     ]
    },
    {
     "name": "stdout",
     "output_type": "stream",
     "text": [
      "Training Loss: 0.39007\n",
      "Validation Loss: 0.32786\n",
      "Validation Accuracy: 0.90399\n",
      "Validation MCC: 0.89154\n",
      "Saved new best model: models/svhn_model_2022_09_19_1302_e21.pt\n",
      "Epoch: : 22\n"
     ]
    },
    {
     "name": "stderr",
     "output_type": "stream",
     "text": [
      " 77%|███████▋  | 23/30 [47:29<13:57, 119.65s/it]"
     ]
    },
    {
     "name": "stdout",
     "output_type": "stream",
     "text": [
      "Training Loss: 0.38211\n",
      "Validation Loss: 0.33391\n",
      "Validation Accuracy: 0.90169\n",
      "Validation MCC: 0.88894\n",
      "Epoch: : 23\n"
     ]
    },
    {
     "name": "stderr",
     "output_type": "stream",
     "text": [
      " 80%|████████  | 24/30 [49:32<12:03, 120.60s/it]"
     ]
    },
    {
     "name": "stdout",
     "output_type": "stream",
     "text": [
      "Training Loss: 0.38206\n",
      "Validation Loss: 0.32225\n",
      "Validation Accuracy: 0.90355\n",
      "Validation MCC: 0.89110\n",
      "Epoch: : 24\n"
     ]
    },
    {
     "name": "stderr",
     "output_type": "stream",
     "text": [
      " 83%|████████▎ | 25/30 [52:01<10:45, 129.01s/it]"
     ]
    },
    {
     "name": "stdout",
     "output_type": "stream",
     "text": [
      "Training Loss: 0.37828\n",
      "Validation Loss: 0.33152\n",
      "Validation Accuracy: 0.90216\n",
      "Validation MCC: 0.88958\n",
      "Epoch: : 25\n"
     ]
    },
    {
     "name": "stderr",
     "output_type": "stream",
     "text": [
      " 87%|████████▋ | 26/30 [53:42<08:02, 120.72s/it]"
     ]
    },
    {
     "name": "stdout",
     "output_type": "stream",
     "text": [
      "Training Loss: 0.37774\n",
      "Validation Loss: 0.31912\n",
      "Validation Accuracy: 0.90704\n",
      "Validation MCC: 0.89502\n",
      "Saved new best model: models/svhn_model_2022_09_19_1302_e25.pt\n",
      "Epoch: : 26\n"
     ]
    },
    {
     "name": "stderr",
     "output_type": "stream",
     "text": [
      " 90%|█████████ | 27/30 [55:25<05:45, 115.28s/it]"
     ]
    },
    {
     "name": "stdout",
     "output_type": "stream",
     "text": [
      "Training Loss: 0.37034\n",
      "Validation Loss: 0.31897\n",
      "Validation Accuracy: 0.90571\n",
      "Validation MCC: 0.89354\n",
      "Epoch: : 27\n"
     ]
    },
    {
     "name": "stderr",
     "output_type": "stream",
     "text": [
      " 93%|█████████▎| 28/30 [57:28<03:55, 117.57s/it]"
     ]
    },
    {
     "name": "stdout",
     "output_type": "stream",
     "text": [
      "Training Loss: 0.37258\n",
      "Validation Loss: 0.31893\n",
      "Validation Accuracy: 0.90730\n",
      "Validation MCC: 0.89520\n",
      "Saved new best model: models/svhn_model_2022_09_19_1302_e27.pt\n",
      "Epoch: : 28\n"
     ]
    },
    {
     "name": "stderr",
     "output_type": "stream",
     "text": [
      " 97%|█████████▋| 29/30 [59:52<02:05, 125.48s/it]"
     ]
    },
    {
     "name": "stdout",
     "output_type": "stream",
     "text": [
      "Training Loss: 0.36888\n",
      "Validation Loss: 0.32185\n",
      "Validation Accuracy: 0.90534\n",
      "Validation MCC: 0.89312\n",
      "Epoch: : 29\n"
     ]
    },
    {
     "name": "stderr",
     "output_type": "stream",
     "text": [
      "100%|██████████| 30/30 [1:01:28<00:00, 122.95s/it]"
     ]
    },
    {
     "name": "stdout",
     "output_type": "stream",
     "text": [
      "Training Loss: 0.36446\n",
      "Validation Loss: 0.31321\n",
      "Validation Accuracy: 0.90725\n",
      "Validation MCC: 0.89526\n",
      "Saved new best model: models/svhn_model_2022_09_19_1302_e29.pt\n"
     ]
    },
    {
     "name": "stderr",
     "output_type": "stream",
     "text": [
      "\n"
     ]
    }
   ],
   "source": [
    "# dataloaders\n",
    "batch_size = 128\n",
    "training_loader, validation_loader = create_DataLoaders(training_dataset, validation_dataset, batch_size=batch_size, shuffle=True)\n",
    "\n",
    "# Create Model\n",
    "model = cnn(input_size=(32,32),num_layers=3,n_feat_l1=32, num_classes=10)\n",
    "# print(model)\n",
    "\n",
    "# Parameters\n",
    "init_lr = 1e-3\n",
    "optimizer = torch.optim.Adam(params=model.parameters(), lr=init_lr)\n",
    "loss_metric = nn.CrossEntropyLoss()\n",
    "\n",
    "num_epochs = 30\n",
    "\n",
    "# metric tracking. intitalize some arrays\n",
    "epoch_number = []\n",
    "training_loss = []\n",
    "validation_loss = []\n",
    "accuracy = []\n",
    "mcc = []\n",
    "cm=[]\n",
    "\n",
    "best_model = []\n",
    "best_n_models = 2 # how many models do you want to hold onto\n",
    "\n",
    "# Training-Start datestamp\n",
    "date = datetime.datetime.now()\n",
    "\n",
    "print(f'Training for {num_epochs} epochs.')\n",
    "for epoch in tqdm(range(num_epochs)):\n",
    "\n",
    "    tqdm.write(str(f'Epoch: : {epoch}'))\n",
    "    \n",
    "    e_train_loss = train(model, device, training_loader, optimizer, loss_metric)\n",
    "    e_val_loss, metrics = validate(model, device, validation_loader, loss_metric)\n",
    "\n",
    "    # metrics\n",
    "    training_loss.append(e_train_loss)\n",
    "    validation_loss.append(e_val_loss)\n",
    "    accuracy.append(metrics['accuracy'])\n",
    "    mcc.append(metrics['mcc'])\n",
    "    cm.append(metrics['cm'])\n",
    "\n",
    "    #console-prints (could swap to mlflow/tensorboard for cleaner multi-model tracking and live-results)\n",
    "    tqdm.write(str(f'Training Loss: {e_train_loss:.5f}'))\n",
    "    tqdm.write(str(f'Validation Loss: {e_val_loss:.5f}'))\n",
    "    tqdm.write(str(f'Validation Accuracy: {metrics[\"accuracy\"]:.5f}'))\n",
    "    tqdm.write(str(f'Validation MCC: {metrics[\"mcc\"]:.5f}'))\n",
    "\n",
    "    # early stopping logic would go here\n",
    "\n",
    "    # Save model if min validation loss + max f1\n",
    "    if (np.min(validation_loss) == e_val_loss) and (np.max(mcc) == metrics[\"mcc\"]):\n",
    "        datestamp = datetime.datetime.strftime(date, format='%Y_%m_%d_%H%M')\n",
    "        path_to_model=f'models/svhn_model_{datestamp}_e{epoch}.pt'\n",
    "        torch.save(model.state_dict(),path_to_model)\n",
    "        tqdm.write(str(f'Saved new best model: {path_to_model}'))\n",
    "\n",
    "        best_model.append(path_to_model) #add to best list\n",
    "        if len(best_model) > best_n_models:\n",
    "            os.remove(path=best_model[0]) #delete previous best model\n",
    "            best_model.pop(0) #left shift list by popping first index"
   ]
  },
  {
   "cell_type": "markdown",
   "metadata": {},
   "source": [
    "#5 - Visualize Training and Validation Results\n",
    "+ Loss curves\n",
    "+ Performance Metric curves\n",
    "+ Confusion matrix "
   ]
  },
  {
   "cell_type": "code",
   "execution_count": 12,
   "metadata": {},
   "outputs": [
    {
     "data": {
      "text/plain": [
       "Text(0, 0.5, 'actual')"
      ]
     },
     "execution_count": 12,
     "metadata": {},
     "output_type": "execute_result"
    },
    {
     "data": {
      "image/png": "[encoded data removed]",
      "text/plain": [
       "<Figure size 1224x360 with 5 Axes>"
      ]
     },
     "metadata": {
      "needs_background": "light"
     },
     "output_type": "display_data"
    }
   ],
   "source": [
    "figure = plt.figure(figsize=(17,5))\n",
    "\n",
    "# Loss Curves\n",
    "plt.subplot(1,4,1)\n",
    "plt.plot(training_loss)\n",
    "plt.plot(validation_loss)\n",
    "plt.xlabel(\"epochs\")\n",
    "plt.ylabel(\"Loss\")\n",
    "plt.title('Training and Validation Loss')\n",
    "plt.legend([\"Training\", \"Validation\"])\n",
    "plt.grid(visible=True)\n",
    "\n",
    "# Accuracy Curve\n",
    "plt.subplot(1,4,2)\n",
    "plt.plot(accuracy)\n",
    "plt.xlabel('epoch')\n",
    "plt.ylabel('accuracy')\n",
    "plt.grid(visible=True)\n",
    "plt.title('Accuracy')\n",
    "\n",
    "# Matthews Correlation Coeff Curve\n",
    "plt.subplot(1,4,3)\n",
    "plt.plot(mcc)\n",
    "plt.xlabel('epoch')\n",
    "plt.ylabel('MCC-score')\n",
    "plt.grid(visible=True)\n",
    "plt.title('MCC')\n",
    "\n",
    "# Confusion Matrix\n",
    "plt.subplot(1,4,4)\n",
    "plt.imshow(cm[-1].numpy())\n",
    "plt.title('Confusion Matrix')\n",
    "plt.colorbar()\n",
    "plt.xticks(ticks=np.arange(0,model.num_classes), labels=np.arange(0,model.num_classes))\n",
    "plt.yticks(ticks=np.arange(0,model.num_classes), labels=np.arange(0,model.num_classes))\n",
    "plt.xlabel('Predicted')\n",
    "plt.ylabel('actual')"
   ]
  },
  {
   "cell_type": "code",
   "execution_count": null,
   "metadata": {},
   "outputs": [],
   "source": [
    "\n",
    "\n"
   ]
  },
  {
   "cell_type": "code",
   "execution_count": null,
   "metadata": {},
   "outputs": [],
   "source": []
  }
 ],
 "metadata": {
  "kernelspec": {
   "display_name": "Python 3.9.10 64-bit",
   "language": "python",
   "name": "python3"
  },
  "language_info": {
   "codemirror_mode": {
    "name": "ipython",
    "version": 3
   },
   "file_extension": ".py",
   "mimetype": "text/x-python",
   "name": "python",
   "nbconvert_exporter": "python",
   "pygments_lexer": "ipython3",
   "version": "3.9.10"
  },
  "orig_nbformat": 4,
  "vscode": {
   "interpreter": {
    "hash": "6d567de74db8d0c12a332ed002f590f9b562856e2675462b90f2b5fcf9ee7a14"
   }
  }
 },
 "nbformat": 4,
 "nbformat_minor": 2
}
